{
 "cells": [
  {
   "cell_type": "code",
   "execution_count": 1,
   "id": "dc2c6deb",
   "metadata": {},
   "outputs": [],
   "source": [
    "import cv2"
   ]
  },
  {
   "cell_type": "code",
   "execution_count": 14,
   "id": "6c544369",
   "metadata": {},
   "outputs": [],
   "source": [
    "face_cap = cv2.CascadeClassifier(\"C:/Users/SUDHANSU/anaconda3/Lib/site-packages/cv2/data/haarcascade_frontalface_default.xml\")\n",
    "video_cap = cv2.VideoCapture(0)\n",
    "while True :\n",
    "    ret , video_data = video_cap.read()\n",
    "    col = cv2.cvtColor(video_data,cv2.COLOR_BGR2GRAY)\n",
    "    faces = face_cap.detectMultiScale(\n",
    "    col,\n",
    "    scaleFactor=1.1,\n",
    "    minNeighbors=5,\n",
    "    minSize=(30,30),\n",
    "    flags=cv2.CASCADE_SCALE_IMAGE\n",
    "    )\n",
    "    for (x,y,w,h) in  faces:\n",
    "        cv2.rectangle(video_data,(x,y),(x+w,y+h),(0,255,0),2)\n",
    "    cv2.imshow(\"video_live\",video_data)\n",
    "    if cv2.waitKey(10) == ord(\"a\"):\n",
    "        break\n",
    "video_cap.release()"
   ]
  },
  {
   "cell_type": "code",
   "execution_count": null,
   "id": "b63b8f36",
   "metadata": {},
   "outputs": [],
   "source": []
  },
  {
   "cell_type": "code",
   "execution_count": null,
   "id": "7284b7b2",
   "metadata": {},
   "outputs": [],
   "source": [
    "#vix,y,z,wdeo_cap = cv2.VideoCapture(0)\n",
    "#while True :\n",
    "#   ret , video_data = video_cap.read()\n",
    "#    cv2.imshow(\"video_live\",video_data)\n",
    "#    if cv2.waitKey(10) == ord(\"a\"):\n",
    "#        break\n",
    "#video_cap.release()"
   ]
  },
  {
   "cell_type": "code",
   "execution_count": null,
   "id": "aa9059d3",
   "metadata": {},
   "outputs": [],
   "source": []
  },
  {
   "cell_type": "code",
   "execution_count": null,
   "id": "8803094a",
   "metadata": {},
   "outputs": [],
   "source": []
  }
 ],
 "metadata": {
  "kernelspec": {
   "display_name": "Python 3 (ipykernel)",
   "language": "python",
   "name": "python3"
  },
  "language_info": {
   "codemirror_mode": {
    "name": "ipython",
    "version": 3
   },
   "file_extension": ".py",
   "mimetype": "text/x-python",
   "name": "python",
   "nbconvert_exporter": "python",
   "pygments_lexer": "ipython3",
   "version": "3.11.4"
  }
 },
 "nbformat": 4,
 "nbformat_minor": 5
}
